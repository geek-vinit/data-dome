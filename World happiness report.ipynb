{
 "cells": [
  {
   "cell_type": "code",
   "execution_count": null,
   "metadata": {},
   "outputs": [],
   "source": [
    "import pandas as pd\n",
    "import numpy as np\n",
    "import seaborn as sns\n",
    "import matplotlib.pyplot as plt\n",
    "%matplotlib inline"
   ]
  },
  {
   "cell_type": "code",
   "execution_count": null,
   "metadata": {},
   "outputs": [],
   "source": [
    "df=pd.read_csv('https://raw.githubusercontent.com/dsrscientist/DSData/master/happiness_score_dataset.csv')\n",
    "df.head()\n"
   ]
  },
  {
   "cell_type": "code",
   "execution_count": null,
   "metadata": {
    "scrolled": true
   },
   "outputs": [],
   "source": [
    "df.info()"
   ]
  },
  {
   "cell_type": "code",
   "execution_count": null,
   "metadata": {},
   "outputs": [],
   "source": [
    "df1 = df.drop(['Happiness Rank'], axis =1)\n",
    "correlation = df1.corr(method = 'spearman')\n",
    "sns.heatmap(correlation, cmap = 'Reds', square = True,annot=True )"
   ]
  },
  {
   "cell_type": "code",
   "execution_count": null,
   "metadata": {},
   "outputs": [],
   "source": [
    "plt.rcParams['figure.figsize'] = (15,7)\n",
    "plt.title('Plot between Happiness Score  and Economy (GDP per Capita) ')\n",
    "sns.scatterplot(x = df['Happiness Score'] ,y = df['Economy (GDP per Capita)'],hue = df['Region'],s = 100);\n",
    "\n",
    "plt.legend(loc = 'upper left',fontsize = '10')\n",
    "plt.xlabel('Happiness Score')\n",
    "plt.ylabel('Economy (GDP per Capita)')\n"
   ]
  },
  {
   "cell_type": "code",
   "execution_count": null,
   "metadata": {},
   "outputs": [],
   "source": [
    "plt.rcParams['figure.figsize'] = (15,7)\n",
    "plt.title('Plot between Happiness Score  and Family ')\n",
    "sns.scatterplot(x = df['Happiness Score'] ,y = df['Family'],hue = df['Region'],s = 200);\n",
    "\n",
    "plt.legend(loc = 'lower right',fontsize = '10')\n",
    "plt.xlabel('Happiness Score')\n",
    "plt.ylabel('Family')"
   ]
  },
  {
   "cell_type": "code",
   "execution_count": null,
   "metadata": {},
   "outputs": [],
   "source": [
    "plt.rcParams['figure.figsize'] = (15,7)\n",
    "plt.title('Plot between Happiness Score  and Health (Life Expectancy) ')\n",
    "sns.scatterplot(x = df['Happiness Score'] ,y = df['Health (Life Expectancy)'],hue = df['Region'],s = 100);\n",
    "\n",
    "plt.legend(loc = 'lower right',fontsize = '10')\n",
    "plt.xlabel('Happiness Score')\n",
    "plt.ylabel('Health (Life Expectancy)')"
   ]
  },
  {
   "cell_type": "code",
   "execution_count": null,
   "metadata": {},
   "outputs": [],
   "source": [
    "gdp_by_region = df.groupby('Region')['Economy (GDP per Capita)'].sum()\n",
    "gdp_by_region\n",
    "\n",
    "\n",
    "gdp_by_region.plot.pie()\n",
    "plt.title('GDP by Region')\n",
    "plt.ylabel('')\n"
   ]
  },
  {
   "cell_type": "code",
   "execution_count": null,
   "metadata": {},
   "outputs": [],
   "source": [
    "top_data = df.head(10)\n",
    "bottom_data = df.tail(10)\n"
   ]
  },
  {
   "cell_type": "code",
   "execution_count": null,
   "metadata": {},
   "outputs": [],
   "source": [
    "fig, axes = plt.subplots(1,3, figsize= (16,6))\n",
    "plt.tight_layout(pad = 5)\n",
    "xlabels = top_data.Country\n",
    "axes[0].set_title('Top 10 happiest countries GDP')\n",
    "axes[0].set_xticklabels(xlabels, rotation = 45, ha = 'right')\n",
    "sns.barplot(x = top_data.Country, y = top_data['Economy (GDP per Capita)'], ax = axes[0])\n",
    "axes[0].set_xlabel('Country Name')\n",
    "axes[0].set_ylabel('GDP')\n",
    "\n",
    "xlabels=top_data.Country\n",
    "axes[1].set_title('Top 10 happiest countries Health')\n",
    "axes[1].set_xticklabels(xlabels,rotation = 45, ha ='right')\n",
    "sns.barplot(x = top_data.Country, y= top_data['Health (Life Expectancy)'], ax = axes[1])\n",
    "axes[1].set_xlabel('Country Name')\n",
    "axes[1].set_ylabel('Health')\n",
    "\n",
    "xlabels=top_data.Country\n",
    "axes[2].set_title('Top 10 happiest countries Freedom')\n",
    "axes[2].set_xticklabels(xlabels,rotation = 45, ha ='right')\n",
    "sns.barplot(x = top_data.Country, y= top_data['Freedom'], ax = axes[2])\n",
    "axes[2].set_xlabel('Country Name')\n",
    "axes[2].set_ylabel('Freedom')"
   ]
  },
  {
   "cell_type": "code",
   "execution_count": null,
   "metadata": {},
   "outputs": [],
   "source": [
    "fig, axes = plt.subplots(1,3, figsize= (16,6))\n",
    "plt.tight_layout(pad = 5)\n",
    "xlabels = bottom_data.Country\n",
    "axes[0].set_title('Bottom 10 least happiest countries GDP')\n",
    "axes[0].set_xticklabels(xlabels, rotation = 45, ha = 'right')\n",
    "sns.barplot(x = bottom_data.Country, y = bottom_data['Economy (GDP per Capita)'], ax = axes[0])\n",
    "axes[0].set_xlabel('Country Name')\n",
    "axes[0].set_ylabel('GDP')\n",
    "\n",
    "xlabels=bottom_data.Country\n",
    "axes[1].set_title('Bottom 10 least happiest countries Health')\n",
    "axes[1].set_xticklabels(xlabels,rotation = 45, ha ='right')\n",
    "sns.barplot(x = bottom_data.Country, y= bottom_data['Health (Life Expectancy)'], ax = axes[1])\n",
    "axes[1].set_xlabel('Country Name')\n",
    "axes[1].set_ylabel('Health')\n",
    "\n",
    "xlabels=bottom_data.Country\n",
    "axes[2].set_title('Bottom 10 least happiest countries Freedom')\n",
    "axes[2].set_xticklabels(xlabels,rotation = 45, ha ='right')\n",
    "sns.barplot(x = bottom_data.Country, y= bottom_data['Freedom'], ax = axes[2])\n",
    "axes[2].set_xlabel('Country Name')\n",
    "axes[2].set_ylabel('Freedom')"
   ]
  },
  {
   "cell_type": "code",
   "execution_count": null,
   "metadata": {},
   "outputs": [],
   "source": [
    "y=df['Happiness Score']\n",
    "X=df.drop(['Standard Error','Generosity','Happiness Score','Country','Region'],axis = 1)"
   ]
  },
  {
   "cell_type": "code",
   "execution_count": null,
   "metadata": {},
   "outputs": [],
   "source": [
    "max_score = df['Happiness Score'].max()\n",
    "min_score =df['Happiness Score'].min()\n",
    "avg_score = df['Happiness Score'].mean()\n",
    "print('Maximum',max_score)\n",
    "print('Minimum',min_score)\n",
    "print('Avg',avg_score)"
   ]
  },
  {
   "cell_type": "code",
   "execution_count": null,
   "metadata": {},
   "outputs": [],
   "source": [
    "y= y.apply(lambda x: 1 if x>=5.3757341772151905 else 0)\n",
    "plt.figure(figsize=(10,5))\n",
    "sns.countplot(y)\n",
    "\n",
    "y.value_counts()"
   ]
  },
  {
   "cell_type": "code",
   "execution_count": null,
   "metadata": {},
   "outputs": [],
   "source": [
    "X = X.values\n",
    "y = y.values\n",
    "y"
   ]
  },
  {
   "cell_type": "code",
   "execution_count": null,
   "metadata": {},
   "outputs": [],
   "source": [
    "from sklearn.model_selection import train_test_split\n",
    "\n",
    "X_train, X_test,y_train,y_test= train_test_split(X,y, test_size =0.30, random_state =30)"
   ]
  },
  {
   "cell_type": "code",
   "execution_count": null,
   "metadata": {},
   "outputs": [],
   "source": [
    "from sklearn.preprocessing import StandardScaler \n",
    "\n",
    "stdsc = StandardScaler ()\n",
    "\n",
    "X_train = stdsc.fit_transform(X_train)\n",
    "X_test = stdsc.fit_transform(X_test)"
   ]
  },
  {
   "cell_type": "code",
   "execution_count": null,
   "metadata": {},
   "outputs": [],
   "source": [
    "from sklearn.metrics import accuracy_score as accu\n",
    "from sklearn.linear_model import LogisticRegression\n",
    "lr = LogisticRegression()\n",
    "lr.fit(X_train,y_train)\n",
    "accu(y_test, lr.predict(X_test))"
   ]
  },
  {
   "cell_type": "code",
   "execution_count": null,
   "metadata": {},
   "outputs": [],
   "source": [
    "from sklearn.metrics import accuracy_score as accu\n",
    "from sklearn.ensemble import RandomForestClassifier\n",
    "rf = RandomForestClassifier(random_state = 40)\n",
    "rf.fit(X_train,y_train)\n",
    "accu(y_test, rf.predict(X_test))"
   ]
  },
  {
   "cell_type": "code",
   "execution_count": null,
   "metadata": {},
   "outputs": [],
   "source": []
  }
 ],
 "metadata": {
  "kernelspec": {
   "display_name": "Python 3",
   "language": "python",
   "name": "python3"
  },
  "language_info": {
   "codemirror_mode": {
    "name": "ipython",
    "version": 3
   },
   "file_extension": ".py",
   "mimetype": "text/x-python",
   "name": "python",
   "nbconvert_exporter": "python",
   "pygments_lexer": "ipython3",
   "version": "3.6.5"
  }
 },
 "nbformat": 4,
 "nbformat_minor": 2
}
